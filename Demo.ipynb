{
 "cells": [
  {
   "cell_type": "markdown",
   "metadata": {},
   "source": [
    "<img src=\"jupyter-logo.svg\" width=\"200px\">\n",
    "\n",
    "<h1 style=\"text-align: center\">Jupyter Notebooks</h1>\n",
    "\n",
    "Let's load some data:"
   ]
  },
  {
   "cell_type": "code",
   "execution_count": null,
   "metadata": {},
   "outputs": [],
   "source": [
    "import pandas as pd\n",
    "bags = pd.read_csv('carrier_bag_19072017_v2.csv', encoding='latin1')"
   ]
  },
  {
   "cell_type": "markdown",
   "metadata": {},
   "source": [
    "In 2015, England introduced a 5p minimum charge for plastic carrier bags. This data [from data.gov.uk](https://data.gov.uk/dataset/single-use-plastic-carrier-bags-charge-data-for-england) details the money collected and where it went."
   ]
  },
  {
   "cell_type": "code",
   "execution_count": null,
   "metadata": {},
   "outputs": [],
   "source": [
    "bags.head()"
   ]
  },
  {
   "cell_type": "code",
   "execution_count": null,
   "metadata": {},
   "outputs": [],
   "source": [
    "bags[bags['Company name'] == 'Tesco']"
   ]
  },
  {
   "cell_type": "code",
   "execution_count": null,
   "metadata": {},
   "outputs": [],
   "source": [
    "%matplotlib inline\n",
    "bags.dropna().plot(x=\"Number of single use plastic bags issued\",\n",
    "                   y=\"Gross proceeds of charge (£)\",\n",
    "                   kind='scatter', logx=True, logy=True)"
   ]
  },
  {
   "cell_type": "code",
   "execution_count": null,
   "metadata": {
    "scrolled": false
   },
   "outputs": [],
   "source": [
    "bags[\"Number of single use plastic bags issued\"].hist()"
   ]
  },
  {
   "cell_type": "markdown",
   "metadata": {},
   "source": [
    "## Making notes\n",
    "\n",
    "Write notes like *this one* in [Markdown format](https://guides.github.com/features/mastering-markdown/).\n",
    "\n",
    "- Run the cell (shift-enter) to *render* it\n",
    "- Double click or press <kbd>Enter</kbd> to edit the Markdown\n",
    "\n",
    "You can also write maths using Latex syntax:\n",
    "\n",
    "$$\n",
    "y = sin(\\frac{1}{x^2})\n",
    "$$"
   ]
  },
  {
   "cell_type": "markdown",
   "metadata": {},
   "source": [
    "## Other languages\n",
    "\n",
    "This notebook is using Python, but Jupyter has backends for many other languages.\n",
    "\n",
    "- R: [IRkernel](https://irkernel.github.io/)\n",
    "- Julia: [IJulia](https://github.com/JuliaLang/IJulia.jl)\n",
    "- Spark (Scala): [Apache Toree](https://github.com/apache/incubator-toree)\n",
    "\n",
    "And [many others](https://github.com/jupyter/jupyter/wiki/Jupyter-kernels)"
   ]
  },
  {
   "cell_type": "markdown",
   "metadata": {},
   "source": [
    "## Mixing languages\n",
    "\n",
    "With the Python backend, you can also mix some languages inside a notebook."
   ]
  },
  {
   "cell_type": "code",
   "execution_count": null,
   "metadata": {},
   "outputs": [],
   "source": [
    "%load_ext rpy2.ipython"
   ]
  },
  {
   "cell_type": "code",
   "execution_count": null,
   "metadata": {},
   "outputs": [],
   "source": [
    "%%R\n",
    "R.version.string"
   ]
  },
  {
   "cell_type": "code",
   "execution_count": null,
   "metadata": {
    "scrolled": true
   },
   "outputs": [],
   "source": [
    "%Rpush bags"
   ]
  },
  {
   "cell_type": "code",
   "execution_count": null,
   "metadata": {},
   "outputs": [],
   "source": [
    "%%R\n",
    "head(bags$Company.name)"
   ]
  },
  {
   "cell_type": "code",
   "execution_count": null,
   "metadata": {},
   "outputs": [],
   "source": [
    "%%R\n",
    "hist(log(bags$Number.of.single.use.plastic.bags.issued))"
   ]
  },
  {
   "cell_type": "markdown",
   "metadata": {},
   "source": [
    "## Sharing"
   ]
  },
  {
   "cell_type": "code",
   "execution_count": null,
   "metadata": {},
   "outputs": [],
   "source": []
  }
 ],
 "metadata": {
  "kernelspec": {
   "display_name": "Python 3",
   "language": "python",
   "name": "python3"
  },
  "language_info": {
   "codemirror_mode": {
    "name": "ipython",
    "version": 3
   },
   "file_extension": ".py",
   "mimetype": "text/x-python",
   "name": "python",
   "nbconvert_exporter": "python",
   "pygments_lexer": "ipython3",
   "version": "3.6.2"
  }
 },
 "nbformat": 4,
 "nbformat_minor": 2
}
