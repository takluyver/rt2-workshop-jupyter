{
 "cells": [
  {
   "cell_type": "markdown",
   "metadata": {},
   "source": [
    "## Running a separate process and showing updates from a log file\n",
    "\n",
    "This is not part of my talk, but I was asked about how to do it.\n",
    "\n",
    "Here's an example Python script that writes to a log file."
   ]
  },
  {
   "cell_type": "code",
   "execution_count": 11,
   "metadata": {},
   "outputs": [
    {
     "name": "stdout",
     "output_type": "stream",
     "text": [
      "Overwriting slow.py\n"
     ]
    }
   ],
   "source": [
    "%%writefile slow.py\n",
    "import time\n",
    "\n",
    "logf = open('output.log', 'w')\n",
    "\n",
    "for a in range(10):\n",
    "    print('Line', a, file=logf, flush=True)\n",
    "    time.sleep(1)"
   ]
  },
  {
   "cell_type": "markdown",
   "metadata": {},
   "source": [
    "Running it:"
   ]
  },
  {
   "cell_type": "code",
   "execution_count": 12,
   "metadata": {},
   "outputs": [],
   "source": [
    "from subprocess import Popen, PIPE, STDOUT\n",
    "import time"
   ]
  },
  {
   "cell_type": "code",
   "execution_count": 14,
   "metadata": {},
   "outputs": [
    {
     "name": "stdout",
     "output_type": "stream",
     "text": [
      "Line 0\n",
      "Line 1\n",
      "Line 2\n",
      "Line 3\n",
      "Line 4\n",
      "Line 5\n",
      "Line 6\n",
      "Line 7\n",
      "Line 8\n",
      "Line 9\n",
      "Finished successfully\n"
     ]
    }
   ],
   "source": [
    "p = Popen(['python', 'slow.py'])\n",
    "\n",
    "# Wait for it to create the file before we open it (this is a bit of a hack):\n",
    "time.sleep(0.1)\n",
    "logf = open('output.log')\n",
    "\n",
    "while True:\n",
    "    # Wait for some output, read it and print it.\n",
    "    output = logf.read(1024)\n",
    "    print(output, end='')\n",
    "    \n",
    "    # Has the subprocess finished yet?\n",
    "    if p.poll() is not None:\n",
    "        break\n",
    "        \n",
    "    # If there was no output, wait a bit so we're not using 100% CPU to check it\n",
    "    if not output:\n",
    "        time.sleep(0.1)\n",
    "\n",
    "if p.returncode == 0:\n",
    "    print(\"Finished successfully\")\n",
    "else:\n",
    "    print(\"Exited with error code:\", p.returncode)"
   ]
  },
  {
   "cell_type": "markdown",
   "metadata": {},
   "source": [
    "Using pipes is more elegant, becasue we don't need the `sleep()` calls, but this should work well enough for many cases."
   ]
  }
 ],
 "metadata": {
  "kernelspec": {
   "display_name": "Python 3",
   "language": "python",
   "name": "python3"
  },
  "language_info": {
   "codemirror_mode": {
    "name": "ipython",
    "version": 3
   },
   "file_extension": ".py",
   "mimetype": "text/x-python",
   "name": "python",
   "nbconvert_exporter": "python",
   "pygments_lexer": "ipython3",
   "version": "3.6.2"
  }
 },
 "nbformat": 4,
 "nbformat_minor": 2
}
