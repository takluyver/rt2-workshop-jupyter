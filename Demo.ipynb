{
 "cells": [
  {
   "cell_type": "markdown",
   "metadata": {},
   "source": [
    "<img src=\"jupyter-logo.svg\" width=\"200px\">\n",
    "\n",
    "<h1 style=\"text-align: center\">Jupyter Notebooks</h1>\n",
    "\n",
    "Let's load some data:"
   ]
  },
  {
   "cell_type": "code",
   "execution_count": null,
   "metadata": {},
   "outputs": [],
   "source": [
    "import pandas as pd\n",
    "bags = pd.read_csv('carrier_bag_19072017_v2.csv', encoding='latin1')"
   ]
  },
  {
   "cell_type": "markdown",
   "metadata": {},
   "source": [
    "In 2015, England introduced a 5p minimum charge for plastic carrier bags. This data [from data.gov.uk](https://data.gov.uk/dataset/single-use-plastic-carrier-bags-charge-data-for-england) details the money collected and where it went."
   ]
  },
  {
   "cell_type": "code",
   "execution_count": null,
   "metadata": {},
   "outputs": [],
   "source": [
    "bags.head()"
   ]
  },
  {
   "cell_type": "code",
   "execution_count": null,
   "metadata": {},
   "outputs": [],
   "source": [
    "bags[bags['Company name'] == 'Tesco']"
   ]
  },
  {
   "cell_type": "code",
   "execution_count": null,
   "metadata": {},
   "outputs": [],
   "source": [
    "%matplotlib inline\n",
    "bags.dropna().plot(x=\"Number of single use plastic bags issued\",\n",
    "                   y=\"Gross proceeds of charge (£)\",\n",
    "                   kind='scatter', logx=True, logy=True)"
   ]
  },
  {
   "cell_type": "code",
   "execution_count": null,
   "metadata": {
    "scrolled": false
   },
   "outputs": [],
   "source": [
    "bags[\"Number of single use plastic bags issued\"].hist()"
   ]
  },
  {
   "cell_type": "markdown",
   "metadata": {},
   "source": [
    "## Making notes\n",
    "\n",
    "Write notes like *this one* in [Markdown format](https://guides.github.com/features/mastering-markdown/).\n",
    "\n",
    "- Run the cell (shift-enter) to *render* it\n",
    "- Double click or press <kbd>Enter</kbd> to edit the Markdown\n",
    "\n",
    "You can also write maths using Latex syntax:\n",
    "\n",
    "$$\n",
    "y = sin(\\frac{1}{x^2})\n",
    "$$"
   ]
  },
  {
   "cell_type": "markdown",
   "metadata": {},
   "source": [
    "## Other languages\n",
    "\n",
    "This notebook is using Python, but Jupyter has backends for many other languages.\n",
    "\n",
    "- R: [IRkernel](https://irkernel.github.io/)\n",
    "- Julia: [IJulia](https://github.com/JuliaLang/IJulia.jl)\n",
    "- Spark (Scala): [Apache Toree](https://github.com/apache/incubator-toree)\n",
    "\n",
    "And [many others](https://github.com/jupyter/jupyter/wiki/Jupyter-kernels)"
   ]
  },
  {
   "cell_type": "markdown",
   "metadata": {},
   "source": [
    "## Mixing languages\n",
    "\n",
    "With the Python backend, you can also mix some languages inside a notebook."
   ]
  },
  {
   "cell_type": "code",
   "execution_count": null,
   "metadata": {},
   "outputs": [],
   "source": [
    "%load_ext rpy2.ipython"
   ]
  },
  {
   "cell_type": "code",
   "execution_count": null,
   "metadata": {},
   "outputs": [],
   "source": [
    "%%R\n",
    "R.version.string"
   ]
  },
  {
   "cell_type": "code",
   "execution_count": null,
   "metadata": {
    "scrolled": true
   },
   "outputs": [],
   "source": [
    "%Rpush bags"
   ]
  },
  {
   "cell_type": "code",
   "execution_count": null,
   "metadata": {},
   "outputs": [],
   "source": [
    "%%R\n",
    "head(bags$Company.name)"
   ]
  },
  {
   "cell_type": "code",
   "execution_count": null,
   "metadata": {},
   "outputs": [],
   "source": [
    "%%R\n",
    "hist(log(bags$Number.of.single.use.plastic.bags.issued))"
   ]
  },
  {
   "cell_type": "markdown",
   "metadata": {},
   "source": [
    "## Sharing"
   ]
  },
  {
   "cell_type": "markdown",
   "metadata": {},
   "source": [
    "You can share notebooks on Github; [Here's this one](https://github.com/takluyver/rt2-workshop-jupyter/blob/master/Demo.ipynb).\n",
    "\n",
    "A real world example: **[Using Python to see how the Times writes about men and women](http://nbviewer.jupyter.org/gist/nealcaren/5105037)**\n",
    "\n",
    "The [Jupyter gallery](https://github.com/jupyter/jupyter/wiki/A-gallery-of-interesting-Jupyter-Notebooks#social-data) has many examples on all kinds of topics."
   ]
  },
  {
   "cell_type": "markdown",
   "metadata": {},
   "source": [
    "### Binder\n",
    "\n",
    "**[Binder](https://beta.mybinder.org/)** goes a step further. Share a Github repository and give people a link to run your code on the web—no installation required.\n",
    "\n",
    "[Gravitational waves example](https://github.com/minrk/ligo-binder/)"
   ]
  },
  {
   "cell_type": "markdown",
   "metadata": {},
   "source": [
    "## Version control\n",
    "\n",
    "Standard `git diff` doesn't work very well on notebooks.\n",
    "\n",
    "### Nbdime\n",
    "\n",
    "[Nbdime](http://nbdime.readthedocs.io/en/latest/) (Notebook diff & merge) is a set of tools to make it work more smoothly, developed under the Jupyter project.\n",
    "\n",
    "![nbdime screenshot](nbdiff-web.png)"
   ]
  },
  {
   "cell_type": "markdown",
   "metadata": {},
   "source": [
    "### Alternatives\n",
    "\n",
    "- **[nbstripout](https://pypi.python.org/pypi/nbstripout)**: don't keep the output in git\n",
    "- **[ipymd](https://github.com/rossant/ipymd)**: save notebooks as markdown files"
   ]
  },
  {
   "cell_type": "markdown",
   "metadata": {},
   "source": [
    "## Checking reproducibility\n",
    "\n",
    "**[nbval](https://github.com/computationalmodelling/nbval)** checks that notebooks still run and still produce the same output.\n",
    "\n",
    "![nbval test failure](nbval-failure.png)"
   ]
  },
  {
   "cell_type": "markdown",
   "metadata": {},
   "source": [
    "## Converting to other formats\n",
    "\n",
    "**Nbconvert** converts notebooks to other file types, including:\n",
    "\n",
    "- HTML\n",
    "- Markdown\n",
    "- Latex\n",
    "- PDF\n",
    "- Scripts (.py, .r, etc.)\n",
    "\n",
    "You can use it from the *File* menu in the notebook.\n",
    "\n",
    "You can also use nbconvert from the command line:\n",
    "\n",
    "    jupyter nbconvert --to html Demo.ipynb"
   ]
  },
  {
   "cell_type": "markdown",
   "metadata": {},
   "source": [
    "### Citations\n",
    "\n",
    "Here's an example citation: <cite data-cite=\"29383/T5JC4RTA\"></cite>\n",
    "\n",
    "Nbconvert can convert this to a Latex citation, and thus to PDF. For now, it needs a bit of assistance (see files in this directory).\n",
    "\n",
    "    jupyter nbconvert --to pdf --template with_bib.tplx Demo.ipynb\n",
    "\n",
    "#### Bibliography\n",
    "\n",
    "<div class=\"cite2c-biblio\"></div>"
   ]
  },
  {
   "cell_type": "markdown",
   "metadata": {},
   "source": [
    "## Notebooks for groups\n",
    "\n",
    "* **[JupyterHub](http://jupyterhub.readthedocs.io/en/latest/)**: Run a server with notebooks for a group, e.g. a class.\n",
    "* **[Nbgrader](http://nbgrader.readthedocs.io/en/stable/)**: Use notebooks as student assignments.\n",
    "\n",
    "![nbgrader manual grading interface](formgrader.png)\n",
    "\n",
    "* **[CoCalc](http://jupyterhub.readthedocs.io/en/latest/)**: Commercial service hosting notebooks for class use."
   ]
  }
 ],
 "metadata": {
  "cite2c": {
   "citations": {
    "29383/T5JC4RTA": {
     "DOI": "10.1017/S136149160900241X",
     "URL": "http://journals.cambridge.org/action/displayAbstract?aid=5886876",
     "abstract": "Time-budget studies done among contemporary primitive people suggest that the first farmers worked harder to attain subsistence than their foraging predecessors. This makes the adoption of agriculture in the Stone Age one of the major curiosities in human cultural history. Theories offered by economists and economic historians largely fail to capture work-intensification among early farmers. Attributing a key role to human metabolism, this study provides a simple framework for analysing the adoption of agriculture. It demonstrates how the additional output that farming offered could have lured people into agriculture, but that subsequent population increase would eventually have swallowed up its benefits, forcing early farmers into an irreversible trap, where they had to do more work to attain subsistence compared to their foraging ancestors. The framework draws attention to the fact that, if agriculture arose out of need, as some scholars have suggested, then this was because prehistoric foragers turned down agriculture in the first place. Estimates of population growth before and after farming, however, in the light of the present framework seem to suggest that hunters were pulled rather than pushed into agriculture.",
     "accessed": {
      "day": "11",
      "month": "2",
      "year": "2010"
     },
     "author": [
      {
       "family": "Weisdorf",
       "given": "Jacob"
      }
     ],
     "container-title": "European Review of Economic History",
     "id": "29383/T5JC4RTA",
     "issue": "02",
     "issued": {
      "year": "2009"
     },
     "page": "157-172",
     "page-first": "157",
     "shortTitle": "Why Did the First Farmers Toil?",
     "title": "Why Did the First Farmers Toil? Human Metabolism and the Origins of Agriculture",
     "title-short": "Why Did the First Farmers Toil?",
     "type": "article-journal",
     "volume": "13"
    }
   }
  },
  "kernelspec": {
   "display_name": "Python 3",
   "language": "python",
   "name": "python3"
  },
  "language_info": {
   "codemirror_mode": {
    "name": "ipython",
    "version": 3
   },
   "file_extension": ".py",
   "mimetype": "text/x-python",
   "name": "python",
   "nbconvert_exporter": "python",
   "pygments_lexer": "ipython3",
   "version": "3.6.2"
  }
 },
 "nbformat": 4,
 "nbformat_minor": 2
}
