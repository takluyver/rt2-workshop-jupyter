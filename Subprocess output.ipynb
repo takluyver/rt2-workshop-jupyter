{
 "cells": [
  {
   "cell_type": "markdown",
   "metadata": {},
   "source": [
    "## Running a separate process and showing live output\n",
    "\n",
    "This is not part of my talk, but I was asked about how to do it."
   ]
  },
  {
   "cell_type": "code",
   "execution_count": 1,
   "metadata": {},
   "outputs": [
    {
     "name": "stdout",
     "output_type": "stream",
     "text": [
      "Overwriting slow.py\n"
     ]
    }
   ],
   "source": [
    "%%writefile slow.py\n",
    "import time\n",
    "for a in range(10):\n",
    "    print('Line', a, flush=True)\n",
    "    time.sleep(1)"
   ]
  },
  {
   "cell_type": "markdown",
   "metadata": {},
   "source": [
    "IPython special syntax for running commands in the shell: `!ls`"
   ]
  },
  {
   "cell_type": "code",
   "execution_count": 2,
   "metadata": {},
   "outputs": [
    {
     "name": "stdout",
     "output_type": "stream",
     "text": [
      "Line 0\n",
      "Line 1\n",
      "Line 2\n",
      "Line 3\n",
      "Line 4\n",
      "Line 5\n",
      "Line 6\n",
      "Line 7\n",
      "Line 8\n",
      "Line 9\n"
     ]
    }
   ],
   "source": [
    "!python slow.py"
   ]
  },
  {
   "cell_type": "markdown",
   "metadata": {},
   "source": [
    "To do this in plain Python, e.g. in a library:"
   ]
  },
  {
   "cell_type": "code",
   "execution_count": 3,
   "metadata": {},
   "outputs": [],
   "source": [
    "from subprocess import Popen, PIPE, STDOUT"
   ]
  },
  {
   "cell_type": "code",
   "execution_count": 4,
   "metadata": {},
   "outputs": [
    {
     "name": "stdout",
     "output_type": "stream",
     "text": [
      "Line 0\n",
      "Line 1\n",
      "Line 2\n",
      "Line 3\n",
      "Line 4\n",
      "Line 5\n",
      "Line 6\n",
      "Line 7\n",
      "Line 8\n",
      "Line 9\n"
     ]
    }
   ],
   "source": [
    "p = Popen(['python', 'slow.py'], stdout=PIPE, stderr=STDOUT)\n",
    "\n",
    "# This should be safe because we're not piping stdin to the process.\n",
    "# It gets tricky if we are, because the process can be waiting for input while we're waiting for output.\n",
    "while True:\n",
    "    # Wait for some output, read it and print it.\n",
    "    output = p.stdout.read1(1024).decode('utf-8')\n",
    "    print(output, end='')\n",
    "    \n",
    "    # Has the subprocess finished yet?\n",
    "    if p.poll() is not None:\n",
    "        break\n",
    "\n",
    "if p.returncode != 0:\n",
    "    print(\"Exited with error code:\", p.returncode)"
   ]
  }
 ],
 "metadata": {
  "kernelspec": {
   "display_name": "Python 3",
   "language": "python",
   "name": "python3"
  },
  "language_info": {
   "codemirror_mode": {
    "name": "ipython",
    "version": 3
   },
   "file_extension": ".py",
   "mimetype": "text/x-python",
   "name": "python",
   "nbconvert_exporter": "python",
   "pygments_lexer": "ipython3",
   "version": "3.6.2"
  }
 },
 "nbformat": 4,
 "nbformat_minor": 2
}
